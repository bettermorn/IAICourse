{
 "cells": [
  {
   "cell_type": "markdown",
   "id": "d3bf6589-f12b-4c4c-9c14-8ec7e674e0ed",
   "metadata": {},
   "source": [
    "# 问题描述\n",
    "每间宿舍有两个隔间，由10名学生来选择住所。每一名学生都有一个首选和一个次选，解决这一问题的办法是寻找一种能让每个解都有效的题解表示法。\n",
    "- 成本定义： 0-首选 1-次选 3-未满足选择\n",
    "- 最优解：将每个人都安置于其首选宿舍内。\n",
    "- 成本函数：尽可能让最优解的成本为零。\n",
    "- 编号说明：0-4代表宿舍编号 0-9代表分配给学生的隔间编号\n",
    "\n",
    "# 参考来源\n",
    "## 书籍\n",
    "Segaran, T. (2009). 集体智慧编程 (莫映 & 王开福, 译). 电子工业出版社.\n",
    "## 代码\n",
    "- https://github.com/uolter/PCI/blob/master/chapter5/dorm.py\n",
    "- https://github.com/uolter/PCI/blob/master/chapter5/optimization.py\n",
    "\n",
    "## 分配方法即解法\n",
    "- 为每个宿舍建两个槽\n",
    "- 遍历每一名学生的安置情况\n",
    "- 从剩余槽中选择\n",
    "- 输出学生及其被分配的宿舍\n",
    "- 删除该槽\n",
    "\n",
    "首先创建一个槽序列，每两个槽对应一间宿舍，然后遍历题解中的每个数字，并在槽序列中找到该数字对应的宿舍号，表示学生被安置的宿舍。此函数将学生和与之对应的宿舍打印输出，随后再将槽从序列中删除，这样，其余学生便不会再被安置于该槽中了。待最后一次迭代结束之后，槽列为空，且每名学生及其对应宿舍也都打印完毕。\n"
   ]
  },
  {
   "cell_type": "code",
   "execution_count": 1,
   "id": "31641559-5746-45b9-9ad7-1ea9ecddb6ea",
   "metadata": {},
   "outputs": [
    {
     "name": "stdout",
     "output_type": "stream",
     "text": [
      "宿舍分配结果[0, 0, 0, 0, 0, 0, 0, 0, 0, 0]\n",
      "Toby-首选Bacchus-次选Hercules-实际分配-Athena\n",
      "Steve-首选Zeus-次选Pluto-实际分配-Athena\n",
      "Karen-首选Athena-次选Zeus-实际分配-Bacchus\n",
      "Sarah-首选Zeus-次选Pluto-实际分配-Bacchus\n",
      "Dave-首选Athena-次选Bacchus-实际分配-Hercules\n",
      "Jeff-首选Hercules-次选Pluto-实际分配-Hercules\n",
      "Fred-首选Pluto-次选Athena-实际分配-Pluto\n",
      "Suzie-首选Bacchus-次选Hercules-实际分配-Pluto\n",
      "Laura-首选Bacchus-次选Hercules-实际分配-Zeus\n",
      "James-首选Hercules-次选Athena-实际分配-Zeus\n",
      "总成本是24\n"
     ]
    }
   ],
   "source": [
    "# 都选择第一个宿舍 0代表第一个宿舍\n",
    "\n",
    "import dorm\n",
    "\n",
    "solution = dorm.printsolution([0,0,0,0,0,0,0,0,0,0])\n",
    "print(f\"总成本是{dorm.dormcost([0,0,0,0,0,0,0,0,0,0])}\")"
   ]
  },
  {
   "cell_type": "markdown",
   "id": "b2459d44-3976-4deb-a582-293ddbb6be94",
   "metadata": {},
   "source": [
    "# 采用优化方法"
   ]
  },
  {
   "cell_type": "code",
   "execution_count": 2,
   "id": "30f9acc4-32e8-43b3-87c4-5c5af0de9af4",
   "metadata": {},
   "outputs": [
    {
     "name": "stdout",
     "output_type": "stream",
     "text": [
      "随机优化的解决方案是[6, 8, 0, 6, 1, 3, 3, 2, 1, 0]\n",
      "随机优化的总成本是6\n"
     ]
    }
   ],
   "source": [
    "#reload(dorm)\n",
    "import importlib\n",
    "import optimization\n",
    "importlib.reload(dorm)\n",
    "# 随机优化\n",
    "solution = optimization.randomoptimize(dorm.domain,dorm.dormcost)\n",
    "print(f\"随机优化的解决方案是{solution}\")\n",
    "print(f\"随机优化的总成本是{dorm.dormcost(solution)}\")"
   ]
  },
  {
   "cell_type": "code",
   "execution_count": 3,
   "id": "8cca49c0-91ac-470a-8317-d048ceb369ac",
   "metadata": {},
   "outputs": [
    {
     "name": "stdout",
     "output_type": "stream",
     "text": [
      "遗传算法优化的解决方案是[2, 7, 0, 6, 0, 1, 2, 2, 0, 0]\n",
      "遗传算法优化的总成本是3\n"
     ]
    }
   ],
   "source": [
    "# 用遗传算法优化方法\n",
    "solution = optimization.geneticoptimize(dorm.domain,dorm.dormcost)\n",
    "print(f\"遗传算法优化的解决方案是{solution}\")\n",
    "print(f\"遗传算法优化的总成本是{dorm.dormcost(solution)}\")"
   ]
  },
  {
   "cell_type": "code",
   "execution_count": 4,
   "id": "92693b31-67fb-47d0-bc1c-89e4ebbc9ef5",
   "metadata": {},
   "outputs": [
    {
     "name": "stdout",
     "output_type": "stream",
     "text": [
      "遗传算法的分配结果是\n",
      "宿舍分配结果[2, 7, 0, 6, 0, 1, 2, 2, 0, 0]\n",
      "Toby-首选Bacchus-次选Hercules-实际分配-Bacchus\n",
      "Steve-首选Zeus-次选Pluto-实际分配-Zeus\n",
      "Karen-首选Athena-次选Zeus-实际分配-Athena\n",
      "Sarah-首选Zeus-次选Pluto-实际分配-Zeus\n",
      "Dave-首选Athena-次选Bacchus-实际分配-Athena\n",
      "Jeff-首选Hercules-次选Pluto-实际分配-Hercules\n",
      "Fred-首选Pluto-次选Athena-实际分配-Pluto\n",
      "Suzie-首选Bacchus-次选Hercules-实际分配-Pluto\n",
      "Laura-首选Bacchus-次选Hercules-实际分配-Bacchus\n",
      "James-首选Hercules-次选Athena-实际分配-Hercules\n"
     ]
    }
   ],
   "source": [
    "# 打印分配结果\n",
    "print(\"遗传算法的分配结果是\")\n",
    "dorm.printsolution(solution)"
   ]
  },
  {
   "cell_type": "code",
   "execution_count": null,
   "id": "3a8297de-66ec-40cf-8dbe-e88331a0b0c8",
   "metadata": {},
   "outputs": [],
   "source": []
  },
  {
   "cell_type": "code",
   "execution_count": null,
   "id": "9e79c757-4bbc-47f2-9a6a-dc57c04f9479",
   "metadata": {},
   "outputs": [],
   "source": []
  }
 ],
 "metadata": {
  "kernelspec": {
   "display_name": "Python 3 (ipykernel)",
   "language": "python",
   "name": "python3"
  },
  "language_info": {
   "codemirror_mode": {
    "name": "ipython",
    "version": 3
   },
   "file_extension": ".py",
   "mimetype": "text/x-python",
   "name": "python",
   "nbconvert_exporter": "python",
   "pygments_lexer": "ipython3",
   "version": "3.13.5"
  }
 },
 "nbformat": 4,
 "nbformat_minor": 5
}
